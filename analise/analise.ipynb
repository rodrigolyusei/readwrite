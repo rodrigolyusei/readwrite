{
 "cells": [
  {
   "cell_type": "code",
   "execution_count": 10,
   "metadata": {
    "id": "Is7-RlKXCP3b"
   },
   "outputs": [],
   "source": [
    "import csv\n",
    "import pandas as pd\n",
    "import matplotlib.pyplot as plt"
   ]
  },
  {
   "cell_type": "code",
   "execution_count": 11,
   "metadata": {
    "id": "bLnaIUC6DXjC"
   },
   "outputs": [],
   "source": [
    "# Nome do arquivo de entrada e saída\n",
    "input_file = 'filosofos.txt'\n",
    "output_file = 'filosofos.csv'\n",
    "\n",
    "# Inicialize o CSV de saída com o cabeçalho\n",
    "with open(output_file, mode='w', newline='') as csv_file:\n",
    "    writer = csv.writer(csv_file)\n",
    "    writer.writerow(['reader count', 'average time'])\n",
    "\n",
    "    # Leia o arquivo de entrada linha por linha\n",
    "    with open(input_file, 'r') as file:\n",
    "        for line in file:\n",
    "            # Extraia os valores de reader count e average time\n",
    "            parts = line.strip().split(', ')\n",
    "            if len(parts) == 2:\n",
    "                reader_count = parts[0].split(': ')[1]\n",
    "                average_time = parts[1].split(': ')[1].replace(' ms', '')\n",
    "                \n",
    "                # Escreva no arquivo CSV\n",
    "                writer.writerow([reader_count, average_time])"
   ]
  },
  {
   "cell_type": "code",
   "execution_count": 12,
   "metadata": {},
   "outputs": [],
   "source": [
    "# Nome do arquivo de entrada e saída\n",
    "input_file = 'sofistas.txt'\n",
    "output_file = 'sofistas.csv'\n",
    "\n",
    "# Inicialize o CSV de saída com o cabeçalho\n",
    "with open(output_file, mode='w', newline='') as csv_file:\n",
    "    writer = csv.writer(csv_file)\n",
    "    writer.writerow(['reader count', 'average time'])\n",
    "\n",
    "    # Leia o arquivo de entrada linha por linha\n",
    "    with open(input_file, 'r') as file:\n",
    "        for line in file:\n",
    "            # Extraia os valores de reader count e average time\n",
    "            parts = line.strip().split(', ')\n",
    "            if len(parts) == 2:\n",
    "                reader_count = parts[0].split(': ')[1]\n",
    "                average_time = parts[1].split(': ')[1].replace(' ms', '')\n",
    "                \n",
    "                # Escreva no arquivo CSV\n",
    "                writer.writerow([reader_count, average_time])"
   ]
  },
  {
   "cell_type": "code",
   "execution_count": 13,
   "metadata": {
    "id": "rpCl-rgwE2eL"
   },
   "outputs": [],
   "source": [
    "fil = pd.read_csv('filosofos.csv')\n",
    "sof = pd.read_csv('sofistas.csv')"
   ]
  },
  {
   "cell_type": "code",
   "execution_count": null,
   "metadata": {
    "colab": {
     "base_uri": "https://localhost:8080/",
     "height": 565
    },
    "executionInfo": {
     "elapsed": 591,
     "status": "ok",
     "timestamp": 1730504613032,
     "user": {
      "displayName": "Drielly de Moraes Guerreiro",
      "userId": "14090164833071392634"
     },
     "user_tz": 180
    },
    "id": "bzqTJ5XOHFyB",
    "outputId": "ee36ff05-fc13-4030-efca-5e3cf34afe72"
   },
   "outputs": [],
   "source": [
    "# READWRITE VS SEM READWRITE PC DIMI\n",
    "# Converta a coluna 'average time' para valores numéricos\n",
    "fil['average time'] = pd.to_numeric(fil['average time'])\n",
    "sof['average time'] = pd.to_numeric(sof['average time'])\n",
    "\n",
    "# Criar o gráfico\n",
    "plt.figure(figsize=(10, 6))\n",
    "\n",
    "# Plotar os dados do primeiro CSV\n",
    "plt.plot(fil['reader count'],fil['average time'],  label='Com RW', color='blue')\n",
    "\n",
    "# Plotar os dados do segundo CSV\n",
    "plt.plot(sof['reader count'], sof['average time'], label='Sem RW', color='red')\n",
    "\n",
    "# Personalização do gráfico\n",
    "plt.title('Quantidade de Leitores x Tempo médio - Máquina 1')\n",
    "plt.xlabel('Leitores')\n",
    "plt.ylabel('Tempo médio (ms)')\n",
    "plt.legend(loc='upper right')\n",
    "plt.grid(True)\n",
    "\n",
    "# Exibir o gráfico\n",
    "plt.show()"
   ]
  }
 ],
 "metadata": {
  "colab": {
   "authorship_tag": "ABX9TyNpUv+yEMrwQt1meDF0a1bR",
   "provenance": []
  },
  "kernelspec": {
   "display_name": "Python 3",
   "name": "python3"
  },
  "language_info": {
   "codemirror_mode": {
    "name": "ipython",
    "version": 3
   },
   "file_extension": ".py",
   "mimetype": "text/x-python",
   "name": "python",
   "nbconvert_exporter": "python",
   "pygments_lexer": "ipython3",
   "version": "3.13.0"
  }
 },
 "nbformat": 4,
 "nbformat_minor": 0
}
